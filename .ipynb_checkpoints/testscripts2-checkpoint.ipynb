{
 "cells": [
  {
   "cell_type": "code",
   "execution_count": 1,
   "metadata": {},
   "outputs": [],
   "source": [
    "from espn_api.football import League\n",
    "import numpy as np"
   ]
  },
  {
   "cell_type": "code",
   "execution_count": 4,
   "metadata": {},
   "outputs": [
    {
     "name": "stdout",
     "output_type": "stream",
     "text": [
      "Authentication unsuccessful - check username and password input\n",
      "Retry the authentication or continuing without private league access\n"
     ]
    }
   ],
   "source": [
    "testleague = League(league_id=89656700,year=2020,username='hptrekker2006@yahoo.com',password='harrypotter')"
   ]
  },
  {
   "cell_type": "code",
   "execution_count": 5,
   "metadata": {},
   "outputs": [
    {
     "data": {
      "text/plain": [
       "[Team(I just wanna grill),\n",
       " Team(A Relevant Joke Name),\n",
       " Team(Puff Those  Cheechs),\n",
       " Team(ha ppr machine go brrrrrrrr),\n",
       " Team(its not LAME 2 cry 2 radiohead),\n",
       " Team(Touchdownton Abbey),\n",
       " Team(corn bomba squad),\n",
       " Team(Team LTD)]"
      ]
     },
     "execution_count": 5,
     "metadata": {},
     "output_type": "execute_result"
    }
   ],
   "source": [
    "testleague.teams"
   ]
  },
  {
   "cell_type": "code",
   "execution_count": 7,
   "metadata": {},
   "outputs": [
    {
     "data": {
      "text/plain": [
       "[('31.60', Team(A Relevant Joke Name)),\n",
       " ('30.45', Team(Puff Those  Cheechs)),\n",
       " ('25.80', Team(I just wanna grill)),\n",
       " ('24.75', Team(Team LTD)),\n",
       " ('20.60', Team(its not LAME 2 cry 2 radiohead)),\n",
       " ('19.70', Team(Touchdownton Abbey)),\n",
       " ('19.40', Team(corn bomba squad)),\n",
       " ('18.20', Team(ha ppr machine go brrrrrrrr))]"
      ]
     },
     "execution_count": 7,
     "metadata": {},
     "output_type": "execute_result"
    }
   ],
   "source": [
    "testleague.power_rankings()"
   ]
  },
  {
   "cell_type": "code",
   "execution_count": 9,
   "metadata": {},
   "outputs": [
    {
     "data": {
      "text/plain": [
       "[Box Score(Team(corn bomba squad) at Team(Puff Those  Cheechs)),\n",
       " Box Score(Team(its not LAME 2 cry 2 radiohead) at Team(I just wanna grill)),\n",
       " Box Score(Team(ha ppr machine go brrrrrrrr) at Team(A Relevant Joke Name)),\n",
       " Box Score(Team(Touchdownton Abbey) at Team(Team LTD))]"
      ]
     },
     "execution_count": 9,
     "metadata": {},
     "output_type": "execute_result"
    }
   ],
   "source": [
    "boxScores1 = testleague.box_scores(1)\n",
    "boxScores1"
   ]
  },
  {
   "cell_type": "code",
   "execution_count": 12,
   "metadata": {},
   "outputs": [
    {
     "name": "stdout",
     "output_type": "stream",
     "text": [
      "105.34\n",
      "100.7\n",
      "Team(Puff Those  Cheechs)\n",
      "Team(corn bomba squad)\n"
     ]
    }
   ],
   "source": [
    "print(boxScores1[0].home_score)\n",
    "print(boxScores1[0].away_score)\n",
    "print(boxScores1[0].home_team)\n",
    "print(boxScores1[0].away_team)"
   ]
  },
  {
   "cell_type": "code",
   "execution_count": 14,
   "metadata": {},
   "outputs": [
    {
     "data": {
      "text/plain": [
       "{Team(I just wanna grill): None,\n",
       " Team(A Relevant Joke Name): None,\n",
       " Team(Puff Those  Cheechs): None,\n",
       " Team(ha ppr machine go brrrrrrrr): None,\n",
       " Team(its not LAME 2 cry 2 radiohead): None,\n",
       " Team(Touchdownton Abbey): None,\n",
       " Team(corn bomba squad): None,\n",
       " Team(Team LTD): None}"
      ]
     },
     "execution_count": 14,
     "metadata": {},
     "output_type": "execute_result"
    }
   ],
   "source": [
    "teamScoreDict1 = {x: None for x in testleague.teams}\n",
    "teamScoreDict1"
   ]
  },
  {
   "cell_type": "code",
   "execution_count": 15,
   "metadata": {},
   "outputs": [
    {
     "data": {
      "text/plain": [
       "{Team(I just wanna grill): 129.58,\n",
       " Team(A Relevant Joke Name): 141.68,\n",
       " Team(Puff Those  Cheechs): 105.34,\n",
       " Team(ha ppr machine go brrrrrrrr): 116.6,\n",
       " Team(its not LAME 2 cry 2 radiohead): 144.42,\n",
       " Team(Touchdownton Abbey): 95.94,\n",
       " Team(corn bomba squad): 100.7,\n",
       " Team(Team LTD): 145.2}"
      ]
     },
     "execution_count": 15,
     "metadata": {},
     "output_type": "execute_result"
    }
   ],
   "source": [
    "for box in boxScores1:\n",
    "    #ht = box.home_team\n",
    "    #hs = box.home_score\n",
    "    #at = box.away_team\n",
    "    #asc = box.away_score\n",
    "    teamScoreDict1[box.home_team] = box.home_score\n",
    "    teamScoreDict1[box.away_team] = box.away_score\n",
    "    \n",
    "teamScoreDict1"
   ]
  },
  {
   "cell_type": "code",
   "execution_count": 16,
   "metadata": {},
   "outputs": [
    {
     "data": {
      "text/plain": [
       "{Team(I just wanna grill): 0.5625,\n",
       " Team(A Relevant Joke Name): 0.6875,\n",
       " Team(Puff Those  Cheechs): 0.3125,\n",
       " Team(ha ppr machine go brrrrrrrr): 0.4375,\n",
       " Team(its not LAME 2 cry 2 radiohead): 0.8125,\n",
       " Team(Touchdownton Abbey): 0.0625,\n",
       " Team(corn bomba squad): 0.1875,\n",
       " Team(Team LTD): 0.9375}"
      ]
     },
     "execution_count": 16,
     "metadata": {},
     "output_type": "execute_result"
    }
   ],
   "source": [
    "projrec1 = {x: None for x in testleague.teams}\n",
    "\n",
    "for team in teamScoreDict1.keys():\n",
    "    wins = 0\n",
    "    losses = 0\n",
    "    oppCount = len(list(teamScoreDict1.keys()))\n",
    "    for opp in teamScoreDict1.keys():\n",
    "        if team==opp:\n",
    "            continue\n",
    "        if teamScoreDict1[team] > teamScoreDict1[opp]:\n",
    "            wins += 1\n",
    "        if teamScoreDict1[team] < teamScoreDict1[opp]:\n",
    "            losses += 1\n",
    "            \n",
    "    if wins + losses != oppCount:\n",
    "        ties = oppCount - wins - losses\n",
    "        \n",
    "    projrec1[team] = (float(wins) + (0.5*float(ties)))/float(oppCount)\n",
    "    \n",
    "projrec1"
   ]
  },
  {
   "cell_type": "code",
   "execution_count": 23,
   "metadata": {},
   "outputs": [],
   "source": [
    "lastWeek = 6\n",
    "\n",
    "projRecDicts = {i: {x: None for x in testleague.teams} for i in range(lastWeek)}\n",
    "teamScoreDicts = {i: {x: None for x in testleague.teams} for i in range(lastWeek)}\n",
    "\n",
    "powerRankingDict = {x: 0. for x in testleague.teams}\n",
    "\n",
    "#teamScoreDicts[0][testleague.teams[1]] = 'test post please ignore'\n",
    "#teamScoreDicts"
   ]
  },
  {
   "cell_type": "code",
   "execution_count": null,
   "metadata": {},
   "outputs": [],
   "source": []
  },
  {
   "cell_type": "code",
   "execution_count": 24,
   "metadata": {},
   "outputs": [
    {
     "data": {
      "text/plain": [
       "{Team(I just wanna grill): 3.75,\n",
       " Team(A Relevant Joke Name): 4.125,\n",
       " Team(Puff Those  Cheechs): 2.875,\n",
       " Team(ha ppr machine go brrrrrrrr): 1.75,\n",
       " Team(its not LAME 2 cry 2 radiohead): 3.125,\n",
       " Team(Touchdownton Abbey): 2.75,\n",
       " Team(corn bomba squad): 2.875,\n",
       " Team(Team LTD): 2.75}"
      ]
     },
     "execution_count": 24,
     "metadata": {},
     "output_type": "execute_result"
    }
   ],
   "source": [
    "for i in range(lastWeek):\n",
    "    weekNumber = i+1\n",
    "    boxes = testleague.box_scores(weekNumber)\n",
    "    for box in boxes:\n",
    "        teamScoreDicts[i][box.home_team] = box.home_score\n",
    "        teamScoreDicts[i][box.away_team] = box.away_score\n",
    "    \n",
    "    for team in teamScoreDicts[i].keys():\n",
    "        wins = 0\n",
    "        losses = 0\n",
    "        oppCount = len(list(teamScoreDicts[i].keys()))\n",
    "        for opp in teamScoreDicts[i].keys():\n",
    "            if team==opp:\n",
    "                continue\n",
    "            if teamScoreDicts[i][team] > teamScoreDicts[i][opp]:\n",
    "                wins += 1\n",
    "            if teamScoreDicts[i][team] < teamScoreDicts[i][opp]:\n",
    "                losses += 1\n",
    "            \n",
    "        if wins + losses != oppCount:\n",
    "            ties = oppCount - wins - losses\n",
    "        \n",
    "        projRecDicts[i][team] = (float(wins) + (0.5*float(ties)))/float(oppCount)\n",
    "        powerRankingDict[team] += projRecDicts[i][team]\n",
    "        \n",
    "powerRankingDict"
   ]
  },
  {
   "cell_type": "code",
   "execution_count": null,
   "metadata": {},
   "outputs": [],
   "source": []
  }
 ],
 "metadata": {
  "kernelspec": {
   "display_name": "Python 3",
   "language": "python",
   "name": "python3"
  },
  "language_info": {
   "codemirror_mode": {
    "name": "ipython",
    "version": 3
   },
   "file_extension": ".py",
   "mimetype": "text/x-python",
   "name": "python",
   "nbconvert_exporter": "python",
   "pygments_lexer": "ipython3",
   "version": "3.6.7"
  }
 },
 "nbformat": 4,
 "nbformat_minor": 4
}
