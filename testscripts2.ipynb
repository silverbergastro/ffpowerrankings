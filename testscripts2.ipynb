{
 "cells": [
  {
   "cell_type": "code",
   "execution_count": 1,
   "metadata": {},
   "outputs": [],
   "source": [
    "from espn_api.football import League\n",
    "import numpy as np"
   ]
  },
  {
   "cell_type": "code",
   "execution_count": 2,
   "metadata": {},
   "outputs": [],
   "source": [
    "testleague = League(league_id=40706512,year=2020)"
   ]
  },
  {
   "cell_type": "code",
   "execution_count": 3,
   "metadata": {},
   "outputs": [
    {
     "data": {
      "text/plain": [
       "[Team(ayy im losin ova heah),\n",
       " Team(Big DK Energy ),\n",
       " Team(Coastal Elites),\n",
       " Team(Smile to Hide the Pain),\n",
       " Team(Just a Piece of Metal),\n",
       " Team(Win One for the Ginsburg),\n",
       " Team(Cambridge Catgirls),\n",
       " Team(Gritty Twister),\n",
       " Team(u got beat by a prius owner),\n",
       " Team(Dream Team),\n",
       " Team(just guys being dudes being gay),\n",
       " Team(Groverhaus Acolytes),\n",
       " Team(Eat and be a pain in the ass),\n",
       " Team(who cares. pick up a foot ball),\n",
       " Team(kenyan  aubrey graham),\n",
       " Team(Nussy Hussle)]"
      ]
     },
     "execution_count": 3,
     "metadata": {},
     "output_type": "execute_result"
    }
   ],
   "source": [
    "testleague.teams"
   ]
  },
  {
   "cell_type": "code",
   "execution_count": 4,
   "metadata": {},
   "outputs": [
    {
     "data": {
      "text/plain": [
       "[('31.30', Team(Big DK Energy )),\n",
       " ('30.85', Team(just guys being dudes being gay)),\n",
       " ('26.70', Team(Dream Team)),\n",
       " ('24.60', Team(Gritty Twister)),\n",
       " ('22.40', Team(Coastal Elites)),\n",
       " ('21.15', Team(Cambridge Catgirls)),\n",
       " ('20.25', Team(Win One for the Ginsburg)),\n",
       " ('20.20', Team(kenyan  aubrey graham)),\n",
       " ('19.10', Team(u got beat by a prius owner)),\n",
       " ('18.95', Team(who cares. pick up a foot ball)),\n",
       " ('17.85', Team(Eat and be a pain in the ass)),\n",
       " ('17.10', Team(Just a Piece of Metal)),\n",
       " ('16.70', Team(Smile to Hide the Pain)),\n",
       " ('16.00', Team(Nussy Hussle)),\n",
       " ('15.55', Team(Groverhaus Acolytes)),\n",
       " ('15.05', Team(ayy im losin ova heah))]"
      ]
     },
     "execution_count": 4,
     "metadata": {},
     "output_type": "execute_result"
    }
   ],
   "source": [
    "testleague.power_rankings()"
   ]
  },
  {
   "cell_type": "code",
   "execution_count": 5,
   "metadata": {},
   "outputs": [
    {
     "data": {
      "text/plain": [
       "[Box Score(Team(Gritty Twister) at Team(Coastal Elites)),\n",
       " Box Score(Team(u got beat by a prius owner) at Team(Cambridge Catgirls)),\n",
       " Box Score(Team(Eat and be a pain in the ass) at Team(ayy im losin ova heah)),\n",
       " Box Score(Team(Big DK Energy ) at Team(Smile to Hide the Pain)),\n",
       " Box Score(Team(Dream Team) at Team(Win One for the Ginsburg)),\n",
       " Box Score(Team(kenyan  aubrey graham) at Team(who cares. pick up a foot ball)),\n",
       " Box Score(Team(Just a Piece of Metal) at Team(just guys being dudes being gay)),\n",
       " Box Score(Team(Nussy Hussle) at Team(Groverhaus Acolytes))]"
      ]
     },
     "execution_count": 5,
     "metadata": {},
     "output_type": "execute_result"
    }
   ],
   "source": [
    "boxScores1 = testleague.box_scores(1)\n",
    "boxScores1"
   ]
  },
  {
   "cell_type": "code",
   "execution_count": 6,
   "metadata": {},
   "outputs": [
    {
     "name": "stdout",
     "output_type": "stream",
     "text": [
      "95.24\n",
      "93.0\n",
      "Team(Coastal Elites)\n",
      "Team(Gritty Twister)\n"
     ]
    }
   ],
   "source": [
    "print(boxScores1[0].home_score)\n",
    "print(boxScores1[0].away_score)\n",
    "print(boxScores1[0].home_team)\n",
    "print(boxScores1[0].away_team)"
   ]
  },
  {
   "cell_type": "code",
   "execution_count": 7,
   "metadata": {},
   "outputs": [
    {
     "data": {
      "text/plain": [
       "{Team(ayy im losin ova heah): None,\n",
       " Team(Big DK Energy ): None,\n",
       " Team(Coastal Elites): None,\n",
       " Team(Smile to Hide the Pain): None,\n",
       " Team(Just a Piece of Metal): None,\n",
       " Team(Win One for the Ginsburg): None,\n",
       " Team(Cambridge Catgirls): None,\n",
       " Team(Gritty Twister): None,\n",
       " Team(u got beat by a prius owner): None,\n",
       " Team(Dream Team): None,\n",
       " Team(just guys being dudes being gay): None,\n",
       " Team(Groverhaus Acolytes): None,\n",
       " Team(Eat and be a pain in the ass): None,\n",
       " Team(who cares. pick up a foot ball): None,\n",
       " Team(kenyan  aubrey graham): None,\n",
       " Team(Nussy Hussle): None}"
      ]
     },
     "execution_count": 7,
     "metadata": {},
     "output_type": "execute_result"
    }
   ],
   "source": [
    "teamScoreDict1 = {x: None for x in testleague.teams}\n",
    "teamScoreDict1"
   ]
  },
  {
   "cell_type": "code",
   "execution_count": 8,
   "metadata": {},
   "outputs": [
    {
     "data": {
      "text/plain": [
       "{Team(ayy im losin ova heah): 78.68,\n",
       " Team(Big DK Energy ): 98.28,\n",
       " Team(Coastal Elites): 95.24,\n",
       " Team(Smile to Hide the Pain): 89.12,\n",
       " Team(Just a Piece of Metal): 94.86,\n",
       " Team(Win One for the Ginsburg): 88.2,\n",
       " Team(Cambridge Catgirls): 92.12,\n",
       " Team(Gritty Twister): 93.0,\n",
       " Team(u got beat by a prius owner): 109.1,\n",
       " Team(Dream Team): 127.9,\n",
       " Team(just guys being dudes being gay): 109.94,\n",
       " Team(Groverhaus Acolytes): 96.16,\n",
       " Team(Eat and be a pain in the ass): 114.74,\n",
       " Team(who cares. pick up a foot ball): 139.2,\n",
       " Team(kenyan  aubrey graham): 86.1,\n",
       " Team(Nussy Hussle): 130.56}"
      ]
     },
     "execution_count": 8,
     "metadata": {},
     "output_type": "execute_result"
    }
   ],
   "source": [
    "for box in boxScores1:\n",
    "    #ht = box.home_team\n",
    "    #hs = box.home_score\n",
    "    #at = box.away_team\n",
    "    #asc = box.away_score\n",
    "    teamScoreDict1[box.home_team] = box.home_score\n",
    "    teamScoreDict1[box.away_team] = box.away_score\n",
    "    \n",
    "teamScoreDict1"
   ]
  },
  {
   "cell_type": "code",
   "execution_count": 18,
   "metadata": {},
   "outputs": [
    {
     "data": {
      "text/plain": [
       "{Team(ayy im losin ova heah): 0.03333333333333333,\n",
       " Team(Big DK Energy ): 0.6333333333333333,\n",
       " Team(Coastal Elites): 0.5,\n",
       " Team(Smile to Hide the Pain): 0.23333333333333334,\n",
       " Team(Just a Piece of Metal): 0.43333333333333335,\n",
       " Team(Win One for the Ginsburg): 0.16666666666666666,\n",
       " Team(Cambridge Catgirls): 0.3,\n",
       " Team(Gritty Twister): 0.36666666666666664,\n",
       " Team(u got beat by a prius owner): 0.7,\n",
       " Team(Dream Team): 0.9,\n",
       " Team(just guys being dudes being gay): 0.7666666666666667,\n",
       " Team(Groverhaus Acolytes): 0.5666666666666667,\n",
       " Team(Eat and be a pain in the ass): 0.8333333333333334,\n",
       " Team(who cares. pick up a foot ball): 1.0333333333333334,\n",
       " Team(kenyan  aubrey graham): 0.1,\n",
       " Team(Nussy Hussle): 0.9666666666666667}"
      ]
     },
     "execution_count": 18,
     "metadata": {},
     "output_type": "execute_result"
    }
   ],
   "source": [
    "projrec1 = {x: None for x in testleague.teams}\n",
    "\n",
    "for team in teamScoreDict1.keys():\n",
    "    wins = 0\n",
    "    losses = 0\n",
    "    oppCount = len(list(teamScoreDict1.keys()))-1\n",
    "    for opp in teamScoreDict1.keys():\n",
    "        if team==opp:\n",
    "            continue\n",
    "        if teamScoreDict1[team] > teamScoreDict1[opp]:\n",
    "            wins += 1\n",
    "        if teamScoreDict1[team] < teamScoreDict1[opp]:\n",
    "            losses += 1\n",
    "            \n",
    "    if wins + losses != oppCount:\n",
    "        ties = oppCount - wins - losses\n",
    "        \n",
    "    projrec1[team] = (float(wins) + (0.5*float(ties)))/float(oppCount)\n",
    "    \n",
    "projrec1"
   ]
  },
  {
   "cell_type": "code",
   "execution_count": 19,
   "metadata": {},
   "outputs": [],
   "source": [
    "lastWeek = 6\n",
    "\n",
    "projRecDicts = {i: {x: None for x in testleague.teams} for i in range(lastWeek)}\n",
    "teamScoreDicts = {i: {x: None for x in testleague.teams} for i in range(lastWeek)}\n",
    "\n",
    "powerRankingDict = {x: 0. for x in testleague.teams}\n",
    "\n",
    "#teamScoreDicts[0][testleague.teams[1]] = 'test post please ignore'\n",
    "#teamScoreDicts"
   ]
  },
  {
   "cell_type": "code",
   "execution_count": null,
   "metadata": {},
   "outputs": [],
   "source": []
  },
  {
   "cell_type": "code",
   "execution_count": 31,
   "metadata": {},
   "outputs": [],
   "source": [
    "for i in range(lastWeek):\n",
    "    weekNumber = i+1\n",
    "    boxes = testleague.box_scores(weekNumber)\n",
    "    for box in boxes:\n",
    "        teamScoreDicts[i][box.home_team] = box.home_score\n",
    "        teamScoreDicts[i][box.away_team] = box.away_score\n",
    "    \n",
    "    for team in teamScoreDicts[i].keys():\n",
    "        wins = 0\n",
    "        losses = 0\n",
    "        oppCount = len(list(teamScoreDicts[i].keys()))-1\n",
    "        for opp in teamScoreDicts[i].keys():\n",
    "            if team==opp:\n",
    "                continue\n",
    "            if teamScoreDicts[i][team] > teamScoreDicts[i][opp]:\n",
    "                wins += 1\n",
    "            if teamScoreDicts[i][team] < teamScoreDicts[i][opp]:\n",
    "                losses += 1\n",
    "            \n",
    "        if wins + losses != oppCount:\n",
    "            ties = oppCount - wins - losses\n",
    "        \n",
    "        projRecDicts[i][team] = (float(wins) + (0.5*float(ties)))/float(oppCount)\n",
    "        \n",
    "for team in powerRankingDict.keys():\n",
    "    powerRankingDict[team] = np.sum(np.array([projRecDicts[i][team] for i in range(lastWeek)]))/float(lastWeek)\n",
    "        \n",
    "powerRankingDictSortedTemp = {k: v for k, v in sorted(powerRankingDict.items(), key=lambda item: item[1],reverse=True)}\n",
    "powerRankingDictSorted = {x: ('{:.3f}'.format(powerRankingDictSortedTemp[x])) for x in powerRankingDictSortedTemp.keys()}"
   ]
  },
  {
   "cell_type": "code",
   "execution_count": 25,
   "metadata": {},
   "outputs": [],
   "source": [
    "from pprint import pprint"
   ]
  },
  {
   "cell_type": "code",
   "execution_count": 32,
   "metadata": {},
   "outputs": [
    {
     "data": {
      "text/plain": [
       "{Team(Big DK Energy ): '0.833',\n",
       " Team(just guys being dudes being gay): '0.811',\n",
       " Team(Eat and be a pain in the ass): '0.656',\n",
       " Team(Win One for the Ginsburg): '0.589',\n",
       " Team(Gritty Twister): '0.533',\n",
       " Team(who cares. pick up a foot ball): '0.533',\n",
       " Team(Just a Piece of Metal): '0.522',\n",
       " Team(kenyan  aubrey graham): '0.522',\n",
       " Team(Dream Team): '0.522',\n",
       " Team(Cambridge Catgirls): '0.489',\n",
       " Team(u got beat by a prius owner): '0.478',\n",
       " Team(Coastal Elites): '0.444',\n",
       " Team(Nussy Hussle): '0.444',\n",
       " Team(Smile to Hide the Pain): '0.411',\n",
       " Team(Groverhaus Acolytes): '0.400',\n",
       " Team(ayy im losin ova heah): '0.344'}"
      ]
     },
     "execution_count": 32,
     "metadata": {},
     "output_type": "execute_result"
    }
   ],
   "source": [
    "powerRankingDictSorted"
   ]
  },
  {
   "cell_type": "code",
   "execution_count": 17,
   "metadata": {},
   "outputs": [
    {
     "data": {
      "text/plain": [
       "[('31.30', Team(Big DK Energy )),\n",
       " ('30.85', Team(just guys being dudes being gay)),\n",
       " ('26.70', Team(Dream Team)),\n",
       " ('24.60', Team(Gritty Twister)),\n",
       " ('22.40', Team(Coastal Elites)),\n",
       " ('21.15', Team(Cambridge Catgirls)),\n",
       " ('20.25', Team(Win One for the Ginsburg)),\n",
       " ('20.20', Team(kenyan  aubrey graham)),\n",
       " ('19.10', Team(u got beat by a prius owner)),\n",
       " ('18.95', Team(who cares. pick up a foot ball)),\n",
       " ('17.85', Team(Eat and be a pain in the ass)),\n",
       " ('17.10', Team(Just a Piece of Metal)),\n",
       " ('16.70', Team(Smile to Hide the Pain)),\n",
       " ('16.00', Team(Nussy Hussle)),\n",
       " ('15.55', Team(Groverhaus Acolytes)),\n",
       " ('15.05', Team(ayy im losin ova heah))]"
      ]
     },
     "execution_count": 17,
     "metadata": {},
     "output_type": "execute_result"
    }
   ],
   "source": [
    "testleague.power_rankings()"
   ]
  },
  {
   "cell_type": "code",
   "execution_count": null,
   "metadata": {},
   "outputs": [],
   "source": []
  }
 ],
 "metadata": {
  "kernelspec": {
   "display_name": "Python 3",
   "language": "python",
   "name": "python3"
  },
  "language_info": {
   "codemirror_mode": {
    "name": "ipython",
    "version": 3
   },
   "file_extension": ".py",
   "mimetype": "text/x-python",
   "name": "python",
   "nbconvert_exporter": "python",
   "pygments_lexer": "ipython3",
   "version": "3.6.7"
  }
 },
 "nbformat": 4,
 "nbformat_minor": 4
}
